{
 "cells": [
  {
   "cell_type": "markdown",
   "id": "4c850643-8375-4cee-a63f-068ede0893b6",
   "metadata": {},
   "source": [
    "# Data Science Tools and Ecosystem\n"
   ]
  },
  {
   "cell_type": "markdown",
   "id": "ee6d8c95-3deb-4935-a510-9ecca5f9ebd0",
   "metadata": {},
   "source": [
    "In this notebook, the Data Science Tools and Ecosystem are summarized."
   ]
  },
  {
   "cell_type": "markdown",
   "id": "160b16fe-fdbb-4f76-9dab-9603ef80ea43",
   "metadata": {},
   "source": [
    "Some of the popular languages used by Data Scientists are:\n",
    "\n",
    "1. Python\n",
    "2. R\n",
    "3. SQL"
   ]
  },
  {
   "cell_type": "markdown",
   "id": "838447c8-cf13-4539-8941-60a57cba9c6f",
   "metadata": {},
   "source": [
    "Some of the commonly used libraries used by Data Scientists include:\n",
    "\n",
    "1. Pandas: A Python library used for data manipulation and analysis, especially for tabular and time series data.\n",
    "2. NumPy: Provides support for multidimensional arrays and matrices, along with a large collection of mathematical functions to operate on these arrays.\n",
    "3. Keras: A high-level neural network API, written in Python and capable of running on top of TensorFlow or other machine learning engines such as Theano.\n",
    "4. PyTorch: An open source machine learning library based on the Torch library, used for applications such as computer vision and natural language processing."
   ]
  },
  {
   "cell_type": "markdown",
   "id": "d3ba294d-e8b2-4699-9916-a3de6e14b26c",
   "metadata": {},
   "source": [
    "| Data Science Tools |\r\n",
    "|----------------------|\r\n",
    "| Jupyter Notebook     |\r\n",
    "| Pandas               |\r\n",
    "| Scikit-learn         |"
   ]
  },
  {
   "cell_type": "markdown",
   "id": "c0b4c62e-6994-4081-ade9-740995c1c572",
   "metadata": {},
   "source": [
    "### Examples of arithmetic expressions in Python:"
   ]
  },
  {
   "cell_type": "code",
   "execution_count": 16,
   "id": "7581bab0-d337-4562-a536-25157d0f09ee",
   "metadata": {},
   "outputs": [
    {
     "data": {
      "text/plain": [
       "17"
      ]
     },
     "execution_count": 16,
     "metadata": {},
     "output_type": "execute_result"
    }
   ],
   "source": [
    "# This is a simple arithmetic expression to multiply and then add integers (the hierarchy of operations is respected):\n",
    "\n",
    "result = (3 * 4) + 5\n",
    "\n",
    "# The result is displayed on the screen:\n",
    "\n",
    "result"
   ]
  },
  {
   "cell_type": "code",
   "execution_count": 17,
   "id": "6cf68c10-49cf-44d2-b2c7-b60a56a2dff2",
   "metadata": {},
   "outputs": [
    {
     "data": {
      "text/plain": [
       "3.3333333333333335"
      ]
     },
     "execution_count": 17,
     "metadata": {},
     "output_type": "execute_result"
    }
   ],
   "source": [
    "# This operation converts 200 minutes into hours by dividing by 60.\n",
    "# Initialize the variable \"minutes\" with the value 200.\n",
    "minutes = 200\n",
    "\n",
    "# Calculate the number of hours by dividing the number of minutes by 60.\n",
    "# Store the result in the variable \"hours\".\n",
    "hours = minutes / 60\n",
    "\n",
    "# Display the result.\n",
    "hours"
   ]
  },
  {
   "cell_type": "markdown",
   "id": "cd185727-f899-46f0-9147-29bc95bd0945",
   "metadata": {},
   "source": [
    "**Objetivos:**\n",
    "- List the popular languages used in Data Science.\n",
    "- List the libraries commonly used in Data Science projects.\n",
    "- Present open source development tools for Data Science."
   ]
  },
  {
   "cell_type": "markdown",
   "id": "4c959e77-492f-4378-b0a4-0ddbcdc18eb7",
   "metadata": {},
   "source": [
    "## Autor\n",
    "Alvaro A. Romano"
   ]
  },
  {
   "cell_type": "code",
   "execution_count": null,
   "id": "b644f9d1-c6e4-4042-9495-ede2f2a646f5",
   "metadata": {},
   "outputs": [],
   "source": []
  }
 ],
 "metadata": {
  "kernelspec": {
   "display_name": "Python 3 (ipykernel)",
   "language": "python",
   "name": "python3"
  },
  "language_info": {
   "codemirror_mode": {
    "name": "ipython",
    "version": 3
   },
   "file_extension": ".py",
   "mimetype": "text/x-python",
   "name": "python",
   "nbconvert_exporter": "python",
   "pygments_lexer": "ipython3",
   "version": "3.12.2"
  }
 },
 "nbformat": 4,
 "nbformat_minor": 5
}
